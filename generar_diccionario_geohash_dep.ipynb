{
 "cells": [
  {
   "cell_type": "code",
   "execution_count": 1,
   "metadata": {},
   "outputs": [],
   "source": [
    "import numpy as np\n",
    "import pandas as pd\n",
    "import shapely\n",
    "import geopandas\n",
    "import fiona\n",
    "import h3\n",
    "import warnings\n",
    "from shapely import geometry\n",
    "from shapely.geometry import Polygon\n",
    "warnings.filterwarnings(\"ignore\")\n",
    "import pyarrow.parquet as parquet\n",
    "\n",
    "def style_fn(x):\n",
    "    return {\"color\":\"blue\", \"weight\":3}"
   ]
  },
  {
   "cell_type": "code",
   "execution_count": 2,
   "metadata": {},
   "outputs": [],
   "source": [
    "# Drop Z dimension of polygons that occurs often in KML\n",
    "def _to_2d(x, y, z):\n",
    "    return tuple(filter(None, [x, y]))\n",
    "\n",
    "def remove_z(data:geopandas.GeoDataFrame):\n",
    "    df = data.copy()\n",
    "    list_geo = []\n",
    "\n",
    "    # delete altitude calling _to_2d function\n",
    "    for _, poli in df.iterrows():\n",
    "        new_shape = shapely.ops.transform(_to_2d, poli.geometry)\n",
    "        list_geo.append(new_shape)\n",
    "    \n",
    "    df.geometry = list_geo\n",
    "    return df"
   ]
  },
  {
   "cell_type": "code",
   "execution_count": null,
   "metadata": {},
   "outputs": [],
   "source": [
    "'''\n",
    "distritos = geopandas.read_file('peru_level3.geojson')\n",
    "distritos=distritos[['NAME_1','NAME_2','NAME_3','TYPE_3','geometry']]\n",
    "distritos=distritos[distritos['NAME_1']!='Callao']\n",
    "distritos['NAME_2']=distritos['NAME_2'].str.replace( r\"([A-Z])\", r\" \\1\").str.strip()\n",
    "distritos['NAME_3']=distritos['NAME_3'].str.replace( r\"([A-Z])\", r\" \\1\").str.strip()\n",
    "distritos['NAME_2']=np.where(distritos['NAME_3']=='Yaquerana','Requena',distritos['NAME_2'])\n",
    "\n",
    "\n",
    "new_distritos=geopandas.read_file('./distritos_poligonos_github/peru-geojson/peru_distrital_simple.geojson')\n",
    "new_distritos=new_distritos[['NOMBDEP','NOMBPROV','NOMBDIST','geometry']]\n",
    "new_distritos['TYPE_3']=\"Distrito\"\n",
    "new_distritos=new_distritos[['NOMBDEP','NOMBPROV','NOMBDIST','TYPE_3','geometry']]\n",
    "new_distritos.columns=['NAME_1','NAME_2','NAME_3','TYPE_3','geometry']\n",
    "new_distritos=new_distritos[(new_distritos['NAME_1']=='CALLAO')&(~new_distritos['geometry'].isna())]\n",
    "new_distritos['NAME_1']=new_distritos['NAME_1'].apply(str.title)\n",
    "new_distritos['NAME_2']=new_distritos['NAME_2'].apply(str.title)\n",
    "new_distritos['NAME_3']=new_distritos['NAME_3'].apply(str.title)\n",
    "new_distritos['TYPE_3']=new_distritos['TYPE_3'].apply(str.title)\n",
    "\n",
    "fiona.supported_drivers['KML']='rw'\n",
    "\n",
    "lima=geopandas.read_file('Lima - Neighborhoods.kml',driver='KML')\n",
    "lima['Name']=lima['Name'].apply(str.title)\n",
    "lima=lima[lima['Name']=='La Punta']\n",
    "lima['NAME_1']='Callao'\n",
    "lima['NAME_2']='Callao'\n",
    "lima['TYPE_3']='Distrito'\n",
    "lima=lima[['NAME_1','NAME_2','Name','TYPE_3','geometry']]\n",
    "lima.columns=['NAME_1','NAME_2','NAME_3','TYPE_3','geometry']\n",
    "\n",
    "lima=remove_z(lima)\n",
    "\n",
    "distritos=geopandas.GeoDataFrame(pd.concat([distritos,new_distritos,lima],ignore_index=True).reset_index(drop=True))\n",
    "del new_distritos,lima\n",
    "\n",
    "distritos.columns=['Departamento','Provincia','Distrito','Tipo_Poligono','geometry']\n",
    "distritos.to_file(\"distritos_peru.geojson\", driver=\"GeoJSON\")\n",
    "'''"
   ]
  },
  {
   "cell_type": "code",
   "execution_count": null,
   "metadata": {},
   "outputs": [],
   "source": [
    "distritos = geopandas.read_file('distritos_peru.geojson')"
   ]
  },
  {
   "attachments": {},
   "cell_type": "markdown",
   "metadata": {},
   "source": [
    "# Extraer Departamentos"
   ]
  },
  {
   "cell_type": "code",
   "execution_count": null,
   "metadata": {},
   "outputs": [],
   "source": [
    "import folium \n",
    "'''\n",
    "map_test = folium.Map(tiles=\"cartodbpositron\")\n",
    "\n",
    "folium.GeoJson(\n",
    "    distritos,\n",
    "    style_function=style_fn,\n",
    "    popup=folium.GeoJsonPopup(distritos.drop(columns=[\"geometry\"]).columns.tolist()),\n",
    "    tooltip=folium.GeoJsonTooltip(['Departamento','Provincia','Distrito']),\n",
    ").add_to(map_test)\n",
    "\n",
    "map_test\n",
    "'''"
   ]
  },
  {
   "cell_type": "code",
   "execution_count": 5,
   "metadata": {},
   "outputs": [],
   "source": [
    "dic_hex_geo={'geo_5':'hex_8',\n",
    "             'geo_6':'hex_9',\n",
    "             'geo_7':'hex_11',\n",
    "             'geo_8':'hex_13'}"
   ]
  },
  {
   "cell_type": "code",
   "execution_count": 6,
   "metadata": {},
   "outputs": [],
   "source": [
    "tipo_geohash=7\n",
    "tipo_hex=int(dic_hex_geo[f'geo_{tipo_geohash}'][4:])"
   ]
  },
  {
   "cell_type": "code",
   "execution_count": 5,
   "metadata": {},
   "outputs": [],
   "source": [
    "from typing import List, Tuple\n",
    "\n",
    "def get_bigger_polygon(row):\n",
    "    x=geopandas.GeoDataFrame(geometry=list(row['geometry']))\n",
    "    for i in row.index:\n",
    "        if i!='geometry':\n",
    "            x[i]=row[i]\n",
    "    cols = x.columns.tolist()            \n",
    "    cols = cols[1:]+[cols[0]]\n",
    "    x=x[cols]\n",
    "    x['Area']=x.area/10**6\n",
    "    x=x[x['Area']==x['Area'].max()][cols]       \n",
    "    return x\n",
    "\n",
    "def polygon_to_hexagon(row,res):\n",
    "    #poli = row.geometry\n",
    "    poly_geojson = row.geometry.__geo_interface__\n",
    "\n",
    "    # Parse out geometry key from GeoJSON dictionary\n",
    "    poly_geojson = poly_geojson['features'][0]['geometry']\n",
    "\n",
    "    # Fill the dictionary with resolution (res) H3 Hexagons that you want\n",
    "    h3_hexes = h3.polyfill_geojson(poly_geojson, res)\n",
    "    df = pd.DataFrame(h3_hexes, columns=['h3_id'])\n",
    "    for i in row.columns:\n",
    "        if i!='geometry':\n",
    "            df[i]=row[i].values[0]\n",
    "    cols = df.columns.tolist()            \n",
    "    cols = cols[1:]+[cols[0]]\n",
    "    df=df[cols]\n",
    "    return df\n",
    "\n",
    "# Drop Z dimension of polygons that occurs often in KML\n",
    "def _to_2d(x, y, z):\n",
    "    return tuple(filter(None, [x, y]))\n",
    "\n",
    "# Call the last two functions\n",
    "def neighborhood_to_hexagon(data:geopandas.GeoDataFrame,res:int,remove_z:bool):\n",
    "    df = data.copy()\n",
    "    list_geo = []\n",
    "    list_df = []\n",
    "\n",
    "    # delete altitude calling _to_2d function\n",
    "    if remove_z:\n",
    "        for _, poli in df.iterrows():\n",
    "            new_shape = shapely.ops.transform(_to_2d, poli.geometry)\n",
    "            new_shape=poli.geometry\n",
    "            list_geo.append(new_shape)    \n",
    "        df.geometry = list_geo\n",
    "       \n",
    "    # Call polygon_to_hexagon function\n",
    "    for _, row in df.iterrows():\n",
    "        # drop multipolygons\n",
    "        if row['geometry'].geom_type=='MultiPolygon':\n",
    "            temp = get_bigger_polygon(row) \n",
    "        else:\n",
    "            temp=geopandas.GeoDataFrame(geometry=[row['geometry']])\n",
    "            for i in row.index:\n",
    "                if i!='geometry':\n",
    "                    temp[i]=row[i]\n",
    "            cols = temp.columns.tolist()            \n",
    "            cols = cols[1:]+[cols[0]]\n",
    "            temp=temp[cols]\n",
    "        temp = polygon_to_hexagon(temp,res)\n",
    "        list_df.append(temp)\n",
    "    df = pd.concat(list_df).reset_index(drop=True)\n",
    "\n",
    "    return df"
   ]
  },
  {
   "cell_type": "code",
   "execution_count": null,
   "metadata": {},
   "outputs": [],
   "source": [
    "#distritos=neighborhood_to_hexagon(distritos,res=tipo_hex,remove_z=False)\n",
    "#distritos=distritos.drop_duplicates(subset='h3_id',keep='first').reset_index(drop=True)"
   ]
  },
  {
   "cell_type": "code",
   "execution_count": null,
   "metadata": {},
   "outputs": [],
   "source": [
    "#distritos.to_parquet(f'./maestro_geohash_distritos/distritos_peru_geohash_{tipo_geohash}.parquet',index=False)"
   ]
  },
  {
   "cell_type": "code",
   "execution_count": null,
   "metadata": {},
   "outputs": [],
   "source": [
    "distritos=pd.read_parquet(f'./maestro_geohash_distritos/distritos_peru_geohash_{tipo_geohash}.parquet')"
   ]
  },
  {
   "cell_type": "code",
   "execution_count": null,
   "metadata": {},
   "outputs": [],
   "source": [
    "distritos"
   ]
  },
  {
   "cell_type": "code",
   "execution_count": 6,
   "metadata": {},
   "outputs": [],
   "source": [
    "import pygeohash as pgh\n",
    "\n",
    "def hashingit(lat, long): \n",
    "      return pgh.encode(latitude=lat,longitude=long,precision=tipo_geohash)\n",
    "\n",
    "func_has= np.vectorize(hashingit)\n",
    "\n",
    "def hex_to_coords(val):\n",
    "    return [(t[1], t[0]) for t in h3.h3_set_to_multi_polygon([val], geo_json=False)[0][0]]\n",
    "\n",
    "def geohash_to_polygon(geo):\n",
    "    \"\"\"\n",
    "    :param geo: String that represents the geohash.\n",
    "    :return: Returns a Shapely's Polygon instance that represents the geohash.\n",
    "    \"\"\"\n",
    "    lat_centroid, lng_centroid, lat_offset, lng_offset = pgh.decode_exactly(geo)\n",
    "\n",
    "    corner_1 = (lat_centroid - lat_offset, lng_centroid - lng_offset)[::-1]\n",
    "    corner_2 = (lat_centroid - lat_offset, lng_centroid + lng_offset)[::-1]\n",
    "    corner_3 = (lat_centroid + lat_offset, lng_centroid + lng_offset)[::-1]\n",
    "    corner_4 = (lat_centroid + lat_offset, lng_centroid - lng_offset)[::-1]\n",
    "\n",
    "    return geometry.Polygon([corner_1, corner_2, corner_3, corner_4, corner_1])    "
   ]
  },
  {
   "cell_type": "code",
   "execution_count": null,
   "metadata": {},
   "outputs": [],
   "source": [
    "distritos['Latitud'],distritos['Longitud'] = distritos.apply(lambda rec: h3.h3_to_geo(h=rec['h3_id']), axis=1).str\n",
    "distritos[f'geohash_{tipo_geohash}'] = func_has(distritos['Latitud'],distritos['Longitud'])\n",
    "distritos=distritos[distritos.columns.to_list()[:-4]+[f'geohash_{tipo_geohash}']]\n",
    "distritos = distritos.drop_duplicates(keep='last')\n",
    "distritos = distritos.reset_index(drop=True)"
   ]
  },
  {
   "cell_type": "code",
   "execution_count": null,
   "metadata": {},
   "outputs": [],
   "source": [
    "distritos"
   ]
  },
  {
   "cell_type": "code",
   "execution_count": null,
   "metadata": {},
   "outputs": [],
   "source": [
    "distritos.to_parquet(f'./maestro_geohash_distritos/distritos_peru_geohash_{tipo_geohash}.parquet',index=False)"
   ]
  },
  {
   "cell_type": "code",
   "execution_count": null,
   "metadata": {},
   "outputs": [],
   "source": [
    "distritos['DUPLICADOS']=np.where(distritos.duplicated(subset=f'geohash_{tipo_geohash}',keep=False),'DUPLICADO','NO_DUPLICADO')"
   ]
  },
  {
   "cell_type": "code",
   "execution_count": null,
   "metadata": {},
   "outputs": [],
   "source": [
    "distritos_hex=distritos.copy()\n",
    "distritos = geopandas.read_file('distritos_peru.geojson')\n",
    "distritos=distritos.to_crs(crs = {'init': 'epsg:4326'})\n",
    "duplicados=distritos_hex[distritos_hex['DUPLICADOS']=='DUPLICADO'].reset_index(drop=True)\n",
    "\n",
    "distritos_hex=pd.DataFrame(distritos_hex[distritos_hex['DUPLICADOS']!='DUPLICADO']\\\n",
    "                        [['Departamento','Provincia','Distrito','Tipo_Poligono',f'geohash_{tipo_geohash}']])"
   ]
  },
  {
   "cell_type": "code",
   "execution_count": null,
   "metadata": {},
   "outputs": [],
   "source": [
    "distritos_hex.to_parquet(f'./maestro_geohash_distritos/distritos_peru_geohash_{tipo_geohash}.parquet',index=False)\n",
    "duplicados.to_parquet(f'./maestro_geohash_distritos/distritos_peru_geohash_{tipo_geohash}_duplicados.parquet',index=False)\n",
    "del distritos_hex"
   ]
  },
  {
   "cell_type": "code",
   "execution_count": null,
   "metadata": {},
   "outputs": [],
   "source": [
    "crs = {'init': 'epsg:4326'}\n",
    "duplicados['geometry'] = duplicados.apply(lambda rec: geohash_to_polygon(rec[f'geohash_{tipo_geohash}']), axis=1)\n",
    "duplicados = geopandas.GeoDataFrame(duplicados, crs = crs, geometry = duplicados.geometry)\n",
    "duplicados['Area']=duplicados.area"
   ]
  },
  {
   "cell_type": "code",
   "execution_count": 6,
   "metadata": {},
   "outputs": [],
   "source": [
    "def remover_duplicados(df_distritos, df_maestro):\n",
    "    join=geopandas.overlay(df_distritos, df_maestro[['Distrito','geometry']], how='intersection')\n",
    "    join['Area_Intersectada']=join.area\n",
    "    join = join[(join['Distrito_1']==join['Distrito_2'])].reset_index(drop=True)\n",
    "    join['porcentaje_Area']=np.round(join['Area_Intersectada']*100/join['Area'],decimals=2)\n",
    "    join=pd.DataFrame(join[['Departamento','Provincia','Distrito_1','Tipo_Poligono',f'geohash_{tipo_geohash}','porcentaje_Area']])\n",
    "    join.columns=['Departamento','Provincia','Distrito','Tipo_Poligono',f'geohash_{tipo_geohash}','porcentaje_Area']\n",
    "    max_join=join.groupby(by=['geohash_7'])\\\n",
    "                .agg(porcentaje_Area=pd.NamedAgg(column='porcentaje_Area', aggfunc='max'),).reset_index()\n",
    "    join=join.merge(max_join,how='inner',on=['geohash_7','porcentaje_Area'])\n",
    "    return join.reset_index(drop=True)       "
   ]
  },
  {
   "cell_type": "code",
   "execution_count": 7,
   "metadata": {},
   "outputs": [],
   "source": [
    "duplicados=pd.read_parquet(f'./maestro_geohash_distritos/distritos_peru_geohash_{tipo_geohash}_duplicados.parquet')"
   ]
  },
  {
   "cell_type": "code",
   "execution_count": 8,
   "metadata": {},
   "outputs": [],
   "source": [
    "crs = {'init': 'epsg:4326'}\n",
    "duplicados['geometry'] = duplicados.apply(lambda rec: geohash_to_polygon(rec[f'geohash_{tipo_geohash}']), axis=1)\n",
    "duplicados = geopandas.GeoDataFrame(duplicados, crs = crs, geometry = duplicados.geometry)\n",
    "duplicados['Area']=duplicados.area"
   ]
  },
  {
   "cell_type": "code",
   "execution_count": 9,
   "metadata": {},
   "outputs": [],
   "source": [
    "distritos = geopandas.read_file('distritos_peru.geojson')\n",
    "distritos=distritos.to_crs(crs = {'init': 'epsg:4326'})"
   ]
  },
  {
   "cell_type": "code",
   "execution_count": 29,
   "metadata": {},
   "outputs": [],
   "source": [
    "join=geopandas.overlay(duplicados, distritos[['Distrito','geometry']], how='intersection')"
   ]
  },
  {
   "cell_type": "code",
   "execution_count": 30,
   "metadata": {},
   "outputs": [],
   "source": [
    "join['Area_Intersectada']=join.area\n",
    "join = join[(join['Distrito_1']==join['Distrito_2'])].reset_index(drop=True)\n",
    "join['porcentaje_Area']=np.round(join['Area_Intersectada']*100/join['Area'],decimals=2)\n",
    "join=pd.DataFrame(join[['Departamento','Provincia','Distrito_1','Tipo_Poligono',f'geohash_{tipo_geohash}','porcentaje_Area']])\n",
    "join.columns=['Departamento','Provincia','Distrito','Tipo_Poligono',f'geohash_{tipo_geohash}','porcentaje_Area']\n",
    "max_join=join.groupby(by=['geohash_7'])\\\n",
    "             .agg(porcentaje_Area=pd.NamedAgg(column='porcentaje_Area', aggfunc='max'),).reset_index()\n",
    "join=join.merge(max_join,how='inner',on=['geohash_7','porcentaje_Area'])"
   ]
  },
  {
   "cell_type": "code",
   "execution_count": 31,
   "metadata": {},
   "outputs": [
    {
     "data": {
      "text/html": [
       "<div>\n",
       "<style scoped>\n",
       "    .dataframe tbody tr th:only-of-type {\n",
       "        vertical-align: middle;\n",
       "    }\n",
       "\n",
       "    .dataframe tbody tr th {\n",
       "        vertical-align: top;\n",
       "    }\n",
       "\n",
       "    .dataframe thead th {\n",
       "        text-align: right;\n",
       "    }\n",
       "</style>\n",
       "<table border=\"1\" class=\"dataframe\">\n",
       "  <thead>\n",
       "    <tr style=\"text-align: right;\">\n",
       "      <th></th>\n",
       "      <th>Departamento</th>\n",
       "      <th>Provincia</th>\n",
       "      <th>Distrito</th>\n",
       "      <th>Tipo_Poligono</th>\n",
       "      <th>geohash_7</th>\n",
       "      <th>porcentaje_Area</th>\n",
       "    </tr>\n",
       "  </thead>\n",
       "  <tbody>\n",
       "    <tr>\n",
       "      <th>0</th>\n",
       "      <td>Amazonas</td>\n",
       "      <td>Bagua</td>\n",
       "      <td>Aramango</td>\n",
       "      <td>Distrito</td>\n",
       "      <td>6r0457b</td>\n",
       "      <td>77.35</td>\n",
       "    </tr>\n",
       "    <tr>\n",
       "      <th>1</th>\n",
       "      <td>Amazonas</td>\n",
       "      <td>Bagua</td>\n",
       "      <td>Aramango</td>\n",
       "      <td>Distrito</td>\n",
       "      <td>6r023e8</td>\n",
       "      <td>55.96</td>\n",
       "    </tr>\n",
       "    <tr>\n",
       "      <th>2</th>\n",
       "      <td>Amazonas</td>\n",
       "      <td>Bagua</td>\n",
       "      <td>Aramango</td>\n",
       "      <td>Distrito</td>\n",
       "      <td>6r04pxr</td>\n",
       "      <td>61.75</td>\n",
       "    </tr>\n",
       "    <tr>\n",
       "      <th>3</th>\n",
       "      <td>Amazonas</td>\n",
       "      <td>Bagua</td>\n",
       "      <td>Aramango</td>\n",
       "      <td>Distrito</td>\n",
       "      <td>6r04hdm</td>\n",
       "      <td>51.63</td>\n",
       "    </tr>\n",
       "    <tr>\n",
       "      <th>4</th>\n",
       "      <td>Amazonas</td>\n",
       "      <td>Bagua</td>\n",
       "      <td>Aramango</td>\n",
       "      <td>Distrito</td>\n",
       "      <td>6r04m0h</td>\n",
       "      <td>54.86</td>\n",
       "    </tr>\n",
       "    <tr>\n",
       "      <th>...</th>\n",
       "      <td>...</td>\n",
       "      <td>...</td>\n",
       "      <td>...</td>\n",
       "      <td>...</td>\n",
       "      <td>...</td>\n",
       "      <td>...</td>\n",
       "    </tr>\n",
       "    <tr>\n",
       "      <th>552235</th>\n",
       "      <td>Ucayali</td>\n",
       "      <td>Coronel Portillo</td>\n",
       "      <td>Yarinacocha</td>\n",
       "      <td>Distrito</td>\n",
       "      <td>6qdckjs</td>\n",
       "      <td>81.36</td>\n",
       "    </tr>\n",
       "    <tr>\n",
       "      <th>552236</th>\n",
       "      <td>Ucayali</td>\n",
       "      <td>Coronel Portillo</td>\n",
       "      <td>Yarinacocha</td>\n",
       "      <td>Distrito</td>\n",
       "      <td>6qdckzj</td>\n",
       "      <td>92.13</td>\n",
       "    </tr>\n",
       "    <tr>\n",
       "      <th>552237</th>\n",
       "      <td>Ucayali</td>\n",
       "      <td>Coronel Portillo</td>\n",
       "      <td>Yarinacocha</td>\n",
       "      <td>Distrito</td>\n",
       "      <td>6qdbhy2</td>\n",
       "      <td>61.54</td>\n",
       "    </tr>\n",
       "    <tr>\n",
       "      <th>552238</th>\n",
       "      <td>Ucayali</td>\n",
       "      <td>Coronel Portillo</td>\n",
       "      <td>Yarinacocha</td>\n",
       "      <td>Distrito</td>\n",
       "      <td>6qdcj4v</td>\n",
       "      <td>53.32</td>\n",
       "    </tr>\n",
       "    <tr>\n",
       "      <th>552239</th>\n",
       "      <td>Callao</td>\n",
       "      <td>Callao</td>\n",
       "      <td>La Punta</td>\n",
       "      <td>Distrito</td>\n",
       "      <td>6mc5k5p</td>\n",
       "      <td>54.85</td>\n",
       "    </tr>\n",
       "  </tbody>\n",
       "</table>\n",
       "<p>552240 rows × 6 columns</p>\n",
       "</div>"
      ],
      "text/plain": [
       "       Departamento         Provincia     Distrito Tipo_Poligono geohash_7  \\\n",
       "0          Amazonas             Bagua     Aramango      Distrito   6r0457b   \n",
       "1          Amazonas             Bagua     Aramango      Distrito   6r023e8   \n",
       "2          Amazonas             Bagua     Aramango      Distrito   6r04pxr   \n",
       "3          Amazonas             Bagua     Aramango      Distrito   6r04hdm   \n",
       "4          Amazonas             Bagua     Aramango      Distrito   6r04m0h   \n",
       "...             ...               ...          ...           ...       ...   \n",
       "552235      Ucayali  Coronel Portillo  Yarinacocha      Distrito   6qdckjs   \n",
       "552236      Ucayali  Coronel Portillo  Yarinacocha      Distrito   6qdckzj   \n",
       "552237      Ucayali  Coronel Portillo  Yarinacocha      Distrito   6qdbhy2   \n",
       "552238      Ucayali  Coronel Portillo  Yarinacocha      Distrito   6qdcj4v   \n",
       "552239       Callao            Callao     La Punta      Distrito   6mc5k5p   \n",
       "\n",
       "        porcentaje_Area  \n",
       "0                 77.35  \n",
       "1                 55.96  \n",
       "2                 61.75  \n",
       "3                 51.63  \n",
       "4                 54.86  \n",
       "...                 ...  \n",
       "552235            81.36  \n",
       "552236            92.13  \n",
       "552237            61.54  \n",
       "552238            53.32  \n",
       "552239            54.85  \n",
       "\n",
       "[552240 rows x 6 columns]"
      ]
     },
     "execution_count": 31,
     "metadata": {},
     "output_type": "execute_result"
    }
   ],
   "source": [
    "join"
   ]
  },
  {
   "cell_type": "code",
   "execution_count": 15,
   "metadata": {},
   "outputs": [],
   "source": [
    "duplicados=remover_duplicados(df_distritos=duplicados,df_maestro=distritos)"
   ]
  },
  {
   "cell_type": "code",
   "execution_count": 32,
   "metadata": {},
   "outputs": [],
   "source": [
    "duplicados.to_parquet(f'./maestro_geohash_distritos/distritos_peru_geohash_{tipo_geohash}_duplicados.parquet',index=False)\n",
    "#join.to_parquet(f'./maestro_geohash_distritos/distritos_peru_geohash_{tipo_geohash}_duplicados.parquet',index=False)"
   ]
  },
  {
   "cell_type": "code",
   "execution_count": 33,
   "metadata": {},
   "outputs": [],
   "source": [
    "distritos_hex=pd.read_parquet(f'./maestro_geohash_distritos/distritos_peru_geohash_{tipo_geohash}.parquet')"
   ]
  },
  {
   "cell_type": "code",
   "execution_count": 34,
   "metadata": {},
   "outputs": [],
   "source": [
    "distritos = pd.concat([distritos_hex,duplicados]).reset_index(drop=True)\n",
    "#distritos = pd.concat([distritos_hex,join]).reset_index(drop=True)\n",
    "distritos['porcentaje_Area']=np.where(distritos['porcentaje_Area'].isna(),100,distritos['porcentaje_Area'])\n",
    "distritos.to_parquet(f'./maestro_geohash_distritos/distritos_peru_geohash_{tipo_geohash}.parquet',index=False)"
   ]
  },
  {
   "cell_type": "code",
   "execution_count": null,
   "metadata": {},
   "outputs": [],
   "source": [
    "crs = {'init': 'epsg:4326'}\n",
    "distritos['geometry'] = distritos.apply(lambda rec: geohash_to_polygon(rec[f'geohash_{tipo_geohash}']), axis=1)\n",
    "distritos=geopandas.GeoDataFrame(distritos, crs = crs, geometry = distritos.geometry)"
   ]
  },
  {
   "attachments": {},
   "cell_type": "markdown",
   "metadata": {},
   "source": [
    "## Cargar datos a Tutela"
   ]
  },
  {
   "cell_type": "code",
   "execution_count": 7,
   "metadata": {},
   "outputs": [],
   "source": [
    "distritos=pd.read_parquet(f'./maestro_geohash_distritos/distritos_peru_geohash_{tipo_geohash}.parquet')"
   ]
  },
  {
   "cell_type": "code",
   "execution_count": 15,
   "metadata": {},
   "outputs": [],
   "source": [
    "distritos=distritos[['Departamento', 'Provincia', 'Distrito', 'Tipo_Poligono', 'geohash_7']]"
   ]
  },
  {
   "cell_type": "code",
   "execution_count": 3,
   "metadata": {},
   "outputs": [],
   "source": [
    "import os\n",
    "from google.cloud import bigquery\n",
    "import pandas as pd\n",
    "import numpy as np\n",
    "\n",
    "os.environ['GOOGLE_APPLICATION_CREDENTIALS'] = 'my-key.json'\n",
    "BigQuery_client = bigquery.Client()"
   ]
  },
  {
   "cell_type": "code",
   "execution_count": 16,
   "metadata": {},
   "outputs": [],
   "source": [
    "# Full path to the new table  project.dataset.table_name\n",
    "table_id = 'reportdataexternal-entel-pe.EntelPe.Tb_maestro_GH7'"
   ]
  },
  {
   "cell_type": "code",
   "execution_count": 17,
   "metadata": {},
   "outputs": [
    {
     "data": {
      "text/plain": [
       "LoadJob<project=reportdataexternal-entel-pe, location=US, id=db13ef6f-5da9-4d05-b596-e073d9d8cb4d>"
      ]
     },
     "execution_count": 17,
     "metadata": {},
     "output_type": "execute_result"
    }
   ],
   "source": [
    "# Set up a job configuration\n",
    "job_config = bigquery.LoadJobConfig()\n",
    "# Submit the job\n",
    "job = BigQuery_client.load_table_from_dataframe(distritos, table_id, job_config=job_config)  \n",
    "# Wait for the job to complete and then show the job results\n",
    "job.result()  "
   ]
  },
  {
   "cell_type": "code",
   "execution_count": 18,
   "metadata": {},
   "outputs": [
    {
     "name": "stdout",
     "output_type": "stream",
     "text": [
      "Table: Tb_maestro_GH7 has 56545976 rows and 5 columns\n"
     ]
    }
   ],
   "source": [
    "# Read back the properties of the table\n",
    "table = BigQuery_client.get_table(table_id)  \n",
    "print(\"Table:\", table.table_id, \"has\", table.num_rows, \"rows and\", len(table.schema), \"columns\")"
   ]
  },
  {
   "attachments": {},
   "cell_type": "markdown",
   "metadata": {},
   "source": [
    "## Cargar datos a Omnisci"
   ]
  },
  {
   "cell_type": "code",
   "execution_count": null,
   "metadata": {},
   "outputs": [],
   "source": []
  }
 ],
 "metadata": {
  "kernelspec": {
   "display_name": "benchmark",
   "language": "python",
   "name": "python3"
  },
  "language_info": {
   "codemirror_mode": {
    "name": "ipython",
    "version": 3
   },
   "file_extension": ".py",
   "mimetype": "text/x-python",
   "name": "python",
   "nbconvert_exporter": "python",
   "pygments_lexer": "ipython3",
   "version": "3.6.9"
  },
  "orig_nbformat": 4
 },
 "nbformat": 4,
 "nbformat_minor": 2
}
